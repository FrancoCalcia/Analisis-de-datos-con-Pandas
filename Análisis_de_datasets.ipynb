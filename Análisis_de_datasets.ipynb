{
  "nbformat": 4,
  "nbformat_minor": 0,
  "metadata": {
    "colab": {
      "provenance": [],
      "collapsed_sections": [
        "QB9NTQAZu4jc",
        "MYgjknOezSNP",
        "mr7OsDk5yaNX",
        "wQqqbdd75Wbe",
        "5nEobc2wjXoO"
      ],
      "include_colab_link": true
    },
    "kernelspec": {
      "name": "python3",
      "display_name": "Python 3"
    },
    "language_info": {
      "name": "python"
    }
  },
  "cells": [
    {
      "cell_type": "markdown",
      "metadata": {
        "id": "view-in-github",
        "colab_type": "text"
      },
      "source": [
        "<a href=\"https://colab.research.google.com/github/FrancoCalcia/Analisis-de-datos-con-Pandas/blob/main/An%C3%A1lisis_de_datasets.ipynb\" target=\"_parent\"><img src=\"https://colab.research.google.com/assets/colab-badge.svg\" alt=\"Open In Colab\"/></a>"
      ]
    },
    {
      "cell_type": "markdown",
      "source": [
        "# Trabajo Práctico - Análisis Exploratorio de Datos\n",
        "\n",
        "## Integrantes del Grupo:\n",
        "- **Avecilla Tomás**\n",
        "- **Calcia Franco**\n",
        "\n",
        "---\n",
        "\n",
        "### Descripción:\n",
        "Este notebook contiene el trabajo práctico realizado para la materia Fundamentos de la Ciencia de Datos.\n",
        "El objetivo de este trabajo es realizar un análisis exploratorio de datos utilizando Python, seleccionando un dataset de interés, realizando tareas de manipulación y transformación de datos, y llevando a cabo un análisis exploratorio que incluya medidas descriptivas y visualizaciones.\n",
        "\n",
        "---\n",
        "\n",
        "### Datasets Seleccionados:\n",
        "Los conjuntos de datos utilizados en este trabajo se encuentran [aquí](https://drive.google.com/drive/folders/1ldDK76bVk3QfsdO7cE6um-qs2kMtBP3P?usp=sharing). Estos datasets fueron seleccionados por el grupo debido al interés que generó la temática de los crímenes en nosotros, así como por la disponibilidad de datos de diferentes naturalezas que permitirán realizar un análisis exploratorio completo.\n",
        "\n",
        "---\n",
        "\n",
        "### Estructura del Notebook:\n",
        "El notebook se organiza de la siguiente manera:\n",
        "1. Descripción del Dataset\n",
        "2. Manipulación y Transformación de los Datasets\n",
        "3. Análisis Exploratorio de Datos\n",
        "\n",
        "---\n",
        "\n"
      ],
      "metadata": {
        "id": "9G0z3MdFE0GI"
      }
    },
    {
      "cell_type": "markdown",
      "source": [
        "# Descripción de los Conjuntos de Datos de la Ciudad de Los Ángeles\n"
      ],
      "metadata": {
        "id": "QB9NTQAZu4jc"
      }
    },
    {
      "cell_type": "markdown",
      "source": [
        "\n",
        "En este notebook se analizarán cuatro conjuntos de datos que contienen información sobre la ciudad de Los Ángeles, California.\n",
        "\n",
        "## Conjunto de Datos 1: Crímenes\n",
        "- **Descripción:** Este conjunto de datos contiene información sobre crímenes reportados en la ciudad de Los Ángeles, incluyendo detalles como el tipo de crimen, la fecha y hora, la ubicación, la descripción del crimen, entre otros.\n",
        "- **Origen:** Los datos fueron obtenidos del sitio web propuesto en el enunciado del trabajo práctico [Datos de Agencias Federales de los EE. UU.](https://catalog.data.gov/dataset/crime-data-from-2020-to-present).  \n",
        "Cabe destacar que este dataset fue el que originó el tópico a tratar en este trabajo y a partir de él dimos con el resto de datasets.\n",
        "- **Tipo de Datos:** Datos cuantitativos y cualitativos.\n",
        "\n",
        "## Conjunto de Datos 2: Divisiones Policiales de Los Ángeles\n",
        "- **Descripción:** Este conjunto de datos contiene información geográfica sobre la ciudad de Los Ángeles, California. Contiene coordenadas.\n",
        "- **Origen:** Los datos fueron obtenidos del sitio web [Datos de Agencias Federales de los EE. UU.](https://geohub.lacity.org/datasets/lahub::lapd-divisions/about).  \n",
        "- **Tipo de Datos:** Datos geoespaciales.\n",
        "\n",
        "## Conjunto de Datos 3: Geodatos de Estaciones de Policía\n",
        "- **Descripción:** Este conjunto de datos contiene información geográfica sobre las estaciones de policía en la ciudad de Los Ángeles, incluyendo coordenadas de latitud y longitud.\n",
        "- **Origen:** Los datos fueron obtenidos del sitio web de [Datos Abiertos de la Ciudad de Los Ángeles](https://geohub.lacity.org/datasets/lahub::lapd-police-stations/explore).\n",
        "- **Tipo de Datos:** Datos geoespaciales.\n",
        "\n",
        "Cada conjunto de datos será explorado y analizado individualmente, y posteriormente se realizarán análisis combinados para extraer información significativa sobre la ciudad de Los Ángeles.\n",
        "\n",
        "---\n",
        "\n",
        "# Diccionario de Datos\n",
        "\n",
        "## Dataset 1: Crímenes\n",
        "- `Report Number`: Número de Reporte del Departamento de Policía de Los Ángeles (LAPD) asociado con el incidente.\n",
        "- `Reported Date`: Fecha en que se realizó el informe del incidente.\n",
        "- `Occurred Date`: Fecha en que ocurrió el incidente.\n",
        "- `Occurred Time`: Hora en que ocurrió el incidente.\n",
        "- `Area Name`: Nombre del área geográfica donde ocurrió el incidente.\n",
        "- `Report District Number`: Número de Distrito de Informe.\n",
        "- `Crime Type`: Indicador de si el delito es de tipo \"Part 1\" o \"Part 2\" según la clasificación del LAPD.\n",
        "- `Crime Code`: Código del Crimen. Según la información del LAPD, a menor número mayor es la seriedad del crimen.\n",
        "- `Crime Description`: Descripción del Crimen.\n",
        "- `Modus Operandi Codes`: Códigos de Modus Operandi (M.O.), que describen cómo se cometió el crimen.\n",
        "- `Victim Age`: Edad de la víctima.\n",
        "- `Victim Sex`: Sexo de la víctima.\n",
        "- `Victim Descent`: Descripción de la ascendencia de la víctima.\n",
        "- `Premises Description`: Descripción de la Premisa donde ocurrió el incidente.\n",
        "- `Weapon Description`: Descripción del arma utilizada en el incidente.\n",
        "- `Status`: Estado del incidente.\n",
        "- `Status Description`: Descripción del estado del incidente.\n",
        "- `Location`: Ubicación del incidente.\n",
        "- `Latitude`: Latitud de la ubicación del incidente.\n",
        "- `Longitude`: Longitud de la ubicación del incidente.\n",
        "\n",
        "## Dataset 2: Geodatos de Los Ángeles\n",
        "- `city`: Representación de la Ciudad.\n",
        "- `objectid`: Identificador único del objeto.\n",
        "- `geometry`: Geometría de la ciudad, representada como un multipolígono.\n",
        "\n",
        "## Dataset 3: Geodatos de Estaciones de Policía\n",
        "- `OBJECTID`: Identificador único del objeto.\n",
        "- `DIVISION`: División geográfica asociada con la ubicación.\n",
        "- `LOCATION`: Descripción de la ubicación.\n",
        "- `PREC`: Número de estación.\n",
        "- `x`: Coordenada X de la ubicación.\n",
        "- `y`: Coordenada Y de la ubicación.\n"
      ],
      "metadata": {
        "id": "PtC0KVkBvkhI"
      }
    },
    {
      "cell_type": "markdown",
      "source": [
        "# Manipulación y Transformación de los Datasets"
      ],
      "metadata": {
        "id": "MYgjknOezSNP"
      }
    },
    {
      "cell_type": "markdown",
      "source": [
        "### Comenzamos importando las bibliotecas necesarias para el trabajo y descargando los conjuntos de datos"
      ],
      "metadata": {
        "id": "mr7OsDk5yaNX"
      }
    },
    {
      "cell_type": "code",
      "execution_count": 1,
      "metadata": {
        "id": "PFHaxg929GU_",
        "collapsed": true,
        "colab": {
          "base_uri": "https://localhost:8080/"
        },
        "outputId": "81719c6f-0ab1-467a-a1c5-450610dc9980"
      },
      "outputs": [
        {
          "output_type": "stream",
          "name": "stdout",
          "text": [
            "Requirement already satisfied: gdown in /usr/local/lib/python3.10/dist-packages (5.1.0)\n",
            "Requirement already satisfied: beautifulsoup4 in /usr/local/lib/python3.10/dist-packages (from gdown) (4.12.3)\n",
            "Requirement already satisfied: filelock in /usr/local/lib/python3.10/dist-packages (from gdown) (3.14.0)\n",
            "Requirement already satisfied: requests[socks] in /usr/local/lib/python3.10/dist-packages (from gdown) (2.31.0)\n",
            "Requirement already satisfied: tqdm in /usr/local/lib/python3.10/dist-packages (from gdown) (4.66.4)\n",
            "Requirement already satisfied: soupsieve>1.2 in /usr/local/lib/python3.10/dist-packages (from beautifulsoup4->gdown) (2.5)\n",
            "Requirement already satisfied: charset-normalizer<4,>=2 in /usr/local/lib/python3.10/dist-packages (from requests[socks]->gdown) (3.3.2)\n",
            "Requirement already satisfied: idna<4,>=2.5 in /usr/local/lib/python3.10/dist-packages (from requests[socks]->gdown) (3.7)\n",
            "Requirement already satisfied: urllib3<3,>=1.21.1 in /usr/local/lib/python3.10/dist-packages (from requests[socks]->gdown) (2.0.7)\n",
            "Requirement already satisfied: certifi>=2017.4.17 in /usr/local/lib/python3.10/dist-packages (from requests[socks]->gdown) (2024.6.2)\n",
            "Requirement already satisfied: PySocks!=1.5.7,>=1.5.6 in /usr/local/lib/python3.10/dist-packages (from requests[socks]->gdown) (1.7.1)\n",
            "Downloading...\n",
            "From (original): https://drive.google.com/uc?id=1bb3q0Rv7MWZHFRGyj1nH8Pmwjv65eGJa\n",
            "From (redirected): https://drive.google.com/uc?id=1bb3q0Rv7MWZHFRGyj1nH8Pmwjv65eGJa&confirm=t&uuid=ef7887fc-dbf6-45d7-8c06-c631cd62d18a\n",
            "To: /content/crimenes_la.csv\n",
            "100% 240M/240M [00:03<00:00, 77.8MB/s]\n",
            "Downloading...\n",
            "From: https://drive.google.com/uc?id=1q-df8msS4dorVTD5rvVC5UMZhLRfeaUG\n",
            "To: /content/los_angeles.geojson\n",
            "100% 587k/587k [00:00<00:00, 31.8MB/s]\n",
            "Downloading...\n",
            "From: https://drive.google.com/uc?id=1BTSmBZbPBB26dsK4gassI8bH6kz5AMIM\n",
            "To: /content/estaciones_policia_la.csv\n",
            "100% 1.50k/1.50k [00:00<00:00, 6.69MB/s]\n"
          ]
        }
      ],
      "source": [
        "!pip install gdown\n",
        "\n",
        "import pandas as pd\n",
        "import numpy as np\n",
        "import matplotlib.pyplot as plt\n",
        "import seaborn as sns\n",
        "import geopandas as gpd\n",
        "import folium\n",
        "from shapely.geometry import Point, Polygon, LineString\n",
        "from matplotlib.colors import Normalize\n",
        "from matplotlib import cm\n",
        "from mpl_toolkits.axes_grid1 import make_axes_locatable\n",
        "from scipy.spatial import distance\n",
        "\n",
        "!gdown \"1bb3q0Rv7MWZHFRGyj1nH8Pmwjv65eGJa\" --output \"crimenes_la.csv\"\n",
        "!gdown \"1q-df8msS4dorVTD5rvVC5UMZhLRfeaUG\" --output \"los_angeles.geojson\"\n",
        "!gdown \"1BTSmBZbPBB26dsK4gassI8bH6kz5AMIM\" --output \"estaciones_policia_la.csv\"\n"
      ]
    },
    {
      "cell_type": "code",
      "source": [
        "# Cargar el conjunto de datos de crímenes\n",
        "df_crimenes = pd.read_csv('crimenes_la.csv')\n",
        "\n",
        "# Cargar el conjunto de geodatos de Los Angeles\n",
        "gdf_los_angeles = gpd.read_file('los_angeles.geojson')\n",
        "\n",
        "# Cargar el conjunto de geodatos de estaciones de policía\n",
        "df_estaciones = pd.read_csv('estaciones_policia_la.csv')"
      ],
      "metadata": {
        "id": "zCVGbHlC1QfY",
        "colab": {
          "base_uri": "https://localhost:8080/",
          "height": 269
        },
        "outputId": "5eff8cfc-39bc-47b8-928c-902e09e2ff7c"
      },
      "execution_count": 2,
      "outputs": [
        {
          "output_type": "error",
          "ename": "ParserError",
          "evalue": "Error tokenizing data. C error: Calling read(nbytes) on source failed. Try engine='python'.",
          "traceback": [
            "\u001b[0;31m---------------------------------------------------------------------------\u001b[0m",
            "\u001b[0;31mParserError\u001b[0m                               Traceback (most recent call last)",
            "\u001b[0;32m<ipython-input-2-371f39dd3136>\u001b[0m in \u001b[0;36m<cell line: 2>\u001b[0;34m()\u001b[0m\n\u001b[1;32m      1\u001b[0m \u001b[0;31m# Cargar el conjunto de datos de crímenes\u001b[0m\u001b[0;34m\u001b[0m\u001b[0;34m\u001b[0m\u001b[0m\n\u001b[0;32m----> 2\u001b[0;31m \u001b[0mdf_crimenes\u001b[0m \u001b[0;34m=\u001b[0m \u001b[0mpd\u001b[0m\u001b[0;34m.\u001b[0m\u001b[0mread_csv\u001b[0m\u001b[0;34m(\u001b[0m\u001b[0;34m'crimenes_la.csv'\u001b[0m\u001b[0;34m)\u001b[0m\u001b[0;34m\u001b[0m\u001b[0;34m\u001b[0m\u001b[0m\n\u001b[0m\u001b[1;32m      3\u001b[0m \u001b[0;34m\u001b[0m\u001b[0m\n\u001b[1;32m      4\u001b[0m \u001b[0;31m# Cargar el conjunto de geodatos de Los Angeles\u001b[0m\u001b[0;34m\u001b[0m\u001b[0;34m\u001b[0m\u001b[0m\n\u001b[1;32m      5\u001b[0m \u001b[0mgdf_los_angeles\u001b[0m \u001b[0;34m=\u001b[0m \u001b[0mgpd\u001b[0m\u001b[0;34m.\u001b[0m\u001b[0mread_file\u001b[0m\u001b[0;34m(\u001b[0m\u001b[0;34m'los_angeles.geojson'\u001b[0m\u001b[0;34m)\u001b[0m\u001b[0;34m\u001b[0m\u001b[0;34m\u001b[0m\u001b[0m\n",
            "\u001b[0;32m/usr/local/lib/python3.10/dist-packages/pandas/io/parsers/readers.py\u001b[0m in \u001b[0;36mread_csv\u001b[0;34m(filepath_or_buffer, sep, delimiter, header, names, index_col, usecols, dtype, engine, converters, true_values, false_values, skipinitialspace, skiprows, skipfooter, nrows, na_values, keep_default_na, na_filter, verbose, skip_blank_lines, parse_dates, infer_datetime_format, keep_date_col, date_parser, date_format, dayfirst, cache_dates, iterator, chunksize, compression, thousands, decimal, lineterminator, quotechar, quoting, doublequote, escapechar, comment, encoding, encoding_errors, dialect, on_bad_lines, delim_whitespace, low_memory, memory_map, float_precision, storage_options, dtype_backend)\u001b[0m\n\u001b[1;32m    910\u001b[0m     \u001b[0mkwds\u001b[0m\u001b[0;34m.\u001b[0m\u001b[0mupdate\u001b[0m\u001b[0;34m(\u001b[0m\u001b[0mkwds_defaults\u001b[0m\u001b[0;34m)\u001b[0m\u001b[0;34m\u001b[0m\u001b[0;34m\u001b[0m\u001b[0m\n\u001b[1;32m    911\u001b[0m \u001b[0;34m\u001b[0m\u001b[0m\n\u001b[0;32m--> 912\u001b[0;31m     \u001b[0;32mreturn\u001b[0m \u001b[0m_read\u001b[0m\u001b[0;34m(\u001b[0m\u001b[0mfilepath_or_buffer\u001b[0m\u001b[0;34m,\u001b[0m \u001b[0mkwds\u001b[0m\u001b[0;34m)\u001b[0m\u001b[0;34m\u001b[0m\u001b[0;34m\u001b[0m\u001b[0m\n\u001b[0m\u001b[1;32m    913\u001b[0m \u001b[0;34m\u001b[0m\u001b[0m\n\u001b[1;32m    914\u001b[0m \u001b[0;34m\u001b[0m\u001b[0m\n",
            "\u001b[0;32m/usr/local/lib/python3.10/dist-packages/pandas/io/parsers/readers.py\u001b[0m in \u001b[0;36m_read\u001b[0;34m(filepath_or_buffer, kwds)\u001b[0m\n\u001b[1;32m    581\u001b[0m \u001b[0;34m\u001b[0m\u001b[0m\n\u001b[1;32m    582\u001b[0m     \u001b[0;32mwith\u001b[0m \u001b[0mparser\u001b[0m\u001b[0;34m:\u001b[0m\u001b[0;34m\u001b[0m\u001b[0;34m\u001b[0m\u001b[0m\n\u001b[0;32m--> 583\u001b[0;31m         \u001b[0;32mreturn\u001b[0m \u001b[0mparser\u001b[0m\u001b[0;34m.\u001b[0m\u001b[0mread\u001b[0m\u001b[0;34m(\u001b[0m\u001b[0mnrows\u001b[0m\u001b[0;34m)\u001b[0m\u001b[0;34m\u001b[0m\u001b[0;34m\u001b[0m\u001b[0m\n\u001b[0m\u001b[1;32m    584\u001b[0m \u001b[0;34m\u001b[0m\u001b[0m\n\u001b[1;32m    585\u001b[0m \u001b[0;34m\u001b[0m\u001b[0m\n",
            "\u001b[0;32m/usr/local/lib/python3.10/dist-packages/pandas/io/parsers/readers.py\u001b[0m in \u001b[0;36mread\u001b[0;34m(self, nrows)\u001b[0m\n\u001b[1;32m   1702\u001b[0m                     \u001b[0mcolumns\u001b[0m\u001b[0;34m,\u001b[0m\u001b[0;34m\u001b[0m\u001b[0;34m\u001b[0m\u001b[0m\n\u001b[1;32m   1703\u001b[0m                     \u001b[0mcol_dict\u001b[0m\u001b[0;34m,\u001b[0m\u001b[0;34m\u001b[0m\u001b[0;34m\u001b[0m\u001b[0m\n\u001b[0;32m-> 1704\u001b[0;31m                 \u001b[0;34m)\u001b[0m \u001b[0;34m=\u001b[0m \u001b[0mself\u001b[0m\u001b[0;34m.\u001b[0m\u001b[0m_engine\u001b[0m\u001b[0;34m.\u001b[0m\u001b[0mread\u001b[0m\u001b[0;34m(\u001b[0m  \u001b[0;31m# type: ignore[attr-defined]\u001b[0m\u001b[0;34m\u001b[0m\u001b[0;34m\u001b[0m\u001b[0m\n\u001b[0m\u001b[1;32m   1705\u001b[0m                     \u001b[0mnrows\u001b[0m\u001b[0;34m\u001b[0m\u001b[0;34m\u001b[0m\u001b[0m\n\u001b[1;32m   1706\u001b[0m                 )\n",
            "\u001b[0;32m/usr/local/lib/python3.10/dist-packages/pandas/io/parsers/c_parser_wrapper.py\u001b[0m in \u001b[0;36mread\u001b[0;34m(self, nrows)\u001b[0m\n\u001b[1;32m    232\u001b[0m         \u001b[0;32mtry\u001b[0m\u001b[0;34m:\u001b[0m\u001b[0;34m\u001b[0m\u001b[0;34m\u001b[0m\u001b[0m\n\u001b[1;32m    233\u001b[0m             \u001b[0;32mif\u001b[0m \u001b[0mself\u001b[0m\u001b[0;34m.\u001b[0m\u001b[0mlow_memory\u001b[0m\u001b[0;34m:\u001b[0m\u001b[0;34m\u001b[0m\u001b[0;34m\u001b[0m\u001b[0m\n\u001b[0;32m--> 234\u001b[0;31m                 \u001b[0mchunks\u001b[0m \u001b[0;34m=\u001b[0m \u001b[0mself\u001b[0m\u001b[0;34m.\u001b[0m\u001b[0m_reader\u001b[0m\u001b[0;34m.\u001b[0m\u001b[0mread_low_memory\u001b[0m\u001b[0;34m(\u001b[0m\u001b[0mnrows\u001b[0m\u001b[0;34m)\u001b[0m\u001b[0;34m\u001b[0m\u001b[0;34m\u001b[0m\u001b[0m\n\u001b[0m\u001b[1;32m    235\u001b[0m                 \u001b[0;31m# destructive to chunks\u001b[0m\u001b[0;34m\u001b[0m\u001b[0;34m\u001b[0m\u001b[0m\n\u001b[1;32m    236\u001b[0m                 \u001b[0mdata\u001b[0m \u001b[0;34m=\u001b[0m \u001b[0m_concatenate_chunks\u001b[0m\u001b[0;34m(\u001b[0m\u001b[0mchunks\u001b[0m\u001b[0;34m)\u001b[0m\u001b[0;34m\u001b[0m\u001b[0;34m\u001b[0m\u001b[0m\n",
            "\u001b[0;32m/usr/local/lib/python3.10/dist-packages/pandas/_libs/parsers.pyx\u001b[0m in \u001b[0;36mpandas._libs.parsers.TextReader.read_low_memory\u001b[0;34m()\u001b[0m\n",
            "\u001b[0;32m/usr/local/lib/python3.10/dist-packages/pandas/_libs/parsers.pyx\u001b[0m in \u001b[0;36mpandas._libs.parsers.TextReader._read_rows\u001b[0;34m()\u001b[0m\n",
            "\u001b[0;32m/usr/local/lib/python3.10/dist-packages/pandas/_libs/parsers.pyx\u001b[0m in \u001b[0;36mpandas._libs.parsers.TextReader._tokenize_rows\u001b[0;34m()\u001b[0m\n",
            "\u001b[0;32m/usr/local/lib/python3.10/dist-packages/pandas/_libs/parsers.pyx\u001b[0m in \u001b[0;36mpandas._libs.parsers.TextReader._check_tokenize_status\u001b[0;34m()\u001b[0m\n",
            "\u001b[0;32m/usr/local/lib/python3.10/dist-packages/pandas/_libs/parsers.pyx\u001b[0m in \u001b[0;36mpandas._libs.parsers.raise_parser_error\u001b[0;34m()\u001b[0m\n",
            "\u001b[0;31mParserError\u001b[0m: Error tokenizing data. C error: Calling read(nbytes) on source failed. Try engine='python'."
          ]
        }
      ]
    },
    {
      "cell_type": "markdown",
      "source": [
        "### 1.  Dataframe `df_crimenes`"
      ],
      "metadata": {
        "id": "KsmPuZ836mVP"
      }
    },
    {
      "cell_type": "code",
      "source": [
        "# Se visualiza que el dataset necesita limpieza\n",
        "df_crimenes.head()"
      ],
      "metadata": {
        "id": "0ejWpEIN0NSc"
      },
      "execution_count": null,
      "outputs": []
    },
    {
      "cell_type": "markdown",
      "source": [
        "\n",
        "\n",
        "---\n",
        "\n"
      ],
      "metadata": {
        "id": "oWAXG3z62OlH"
      }
    },
    {
      "cell_type": "code",
      "source": [
        "\"\"\"\n",
        "Eliminamos la hora 12:00:00 AM porque todas las filas contienen el mismo dato.\n",
        "Esto nos permitirá evitar posibles problemas al analizar los datos más adelante.\"\n",
        "\"\"\"\n",
        "\n",
        "df_crimenes[\"Date Rptd\"] = df_crimenes[\"Date Rptd\"].str.replace(\"12:00:00 AM\", \"\")\n",
        "df_crimenes[\"DATE OCC\"] = df_crimenes[\"DATE OCC\"].str.replace(\"12:00:00 AM\", \"\")"
      ],
      "metadata": {
        "id": "rlK_NrzFWo17"
      },
      "execution_count": null,
      "outputs": []
    },
    {
      "cell_type": "code",
      "source": [
        "\"\"\"\n",
        "Eliminamos algunas columnas que contienen códigos no relevantes para\n",
        "el análisis, ya que disponemos de otra columna que contiene su descripción.\n",
        "\"\"\"\n",
        "df_crimenes = df_crimenes.drop(\"Cross Street\", axis = 1) #calle que cruza\n",
        "df_crimenes = df_crimenes.drop(\"Premis Cd\", axis = 1) # codigo de la premisa\n",
        "df_crimenes = df_crimenes.drop(\"Weapon Used Cd\",axis = 1) #codigo del arma\n",
        "df_crimenes = df_crimenes.drop(\"AREA\",axis = 1) #codigo del area\n",
        "df_crimenes = df_crimenes.drop('Crm Cd 1',axis = 1) # Codigos del crimen. Este se repite\n",
        "df_crimenes = df_crimenes.drop('Crm Cd 2',axis = 1) # los siguientes no parecen relevantes\n",
        "df_crimenes = df_crimenes.drop('Crm Cd 3',axis = 1)\n",
        "df_crimenes = df_crimenes.drop('Crm Cd 4',axis = 1)"
      ],
      "metadata": {
        "id": "rJ7sHSJZcQbv"
      },
      "execution_count": null,
      "outputs": []
    },
    {
      "cell_type": "code",
      "source": [
        "\"\"\"\n",
        "Notamos que los nombres de las columnas no eran muy intuitivos,\n",
        "así que decidimos cambiarlos manualmente.\n",
        "\"\"\"\n",
        "\n",
        "nuevos_nombres = ['Report Number', 'Reported Date', 'Occurred Date',\n",
        "                  'Occurred Time','Area Name','Report District Number',\n",
        "                  'Crime Type','Crime Code','Crime Description',\n",
        "                  'Modus Operandi Codes','Victim Age','Victim Sex',\n",
        "                  'Victim Descent','Premises Description','Weapon Description',\n",
        "                  'Status','Status Description',\n",
        "                  'Location','Latitude','Longitude']\n",
        "\n",
        "# Renombrar las columnas del DataFrame\n",
        "df_crimenes.columns = nuevos_nombres"
      ],
      "metadata": {
        "id": "TRmhqRY6iAAV"
      },
      "execution_count": null,
      "outputs": []
    },
    {
      "cell_type": "code",
      "source": [
        "\"\"\"\n",
        "Se cambió el formato de la hora a uno más legible,\n",
        "agregando ceros faltantes y los dos puntos para separar.\n",
        "\"\"\"\n",
        "\n",
        "df_crimenes['Occurred Time'] = df_crimenes['Occurred Time'].astype(str).str.zfill(4)\n",
        "\n",
        "# Insertar los dos puntos para separar horas y minutos\n",
        "df_crimenes['Occurred Time'] = df_crimenes['Occurred Time'].str.slice(0, 2) + ':' + df_crimenes['Occurred Time'].str.slice(2, 4)\n",
        "\n",
        "# eliminar espacios en blanco\n",
        "df_crimenes['Occurred Date'] = df_crimenes['Occurred Date'].str.strip()\n",
        "df_crimenes['Reported Date'] = df_crimenes['Reported Date'].str.strip()\n",
        "\n",
        "# Convertir la columna de fechas\n",
        "df_crimenes['Occurred Date'] = pd.to_datetime(df_crimenes['Occurred Date'], format='%d/%m/%Y', errors='coerce')\n",
        "df_crimenes['Reported Date'] = pd.to_datetime(df_crimenes['Reported Date'], format='%d/%m/%Y', errors='coerce')"
      ],
      "metadata": {
        "id": "SVeVmaOuljkr"
      },
      "execution_count": null,
      "outputs": []
    },
    {
      "cell_type": "markdown",
      "source": [
        "\n",
        "\n",
        "--------------\n",
        "\n"
      ],
      "metadata": {
        "id": "OsyO05FF2V98"
      }
    },
    {
      "cell_type": "code",
      "source": [
        "\"\"\"\n",
        "Verificamos valores nulos\n",
        "\"\"\"\n",
        "df_crimenes.isnull().sum()"
      ],
      "metadata": {
        "id": "aavQdWTEImL8"
      },
      "execution_count": null,
      "outputs": []
    },
    {
      "cell_type": "markdown",
      "source": [
        "\n",
        "\n",
        "---\n",
        "\n"
      ],
      "metadata": {
        "id": "X8Xav67M2fWi"
      }
    },
    {
      "cell_type": "markdown",
      "source": [
        "Decidimos manejar los datos faltantes de la columna 'Modus Operandi Codes'\n",
        "asignándoles el código 0, que será considerado como 'sin datos'."
      ],
      "metadata": {
        "id": "DVpcenJrQp57"
      }
    },
    {
      "cell_type": "code",
      "source": [
        "df_crimenes['Modus Operandi Codes'].fillna(0, inplace=True)\n",
        "df_crimenes['Modus Operandi Codes'].value_counts()"
      ],
      "metadata": {
        "id": "LNrVbeGD_huD"
      },
      "execution_count": null,
      "outputs": []
    },
    {
      "cell_type": "markdown",
      "source": [
        "\n",
        "\n",
        "---\n",
        "\n",
        "\n"
      ],
      "metadata": {
        "id": "8-SPGgJ22h-1"
      }
    },
    {
      "cell_type": "markdown",
      "source": [
        "Decidimos manejar los datos faltantes de la columna 'Victim Sex' asignándoles el valor 'Unknown'\n",
        "para hacerlos más manejables durante el análisis. Además, notamos un valor '-', cuyo significado desconocemos,\n",
        "pero al no representar una cantidad significativa, decidimos incluirlo en 'Unknown'.\n",
        "También encontramos un valor 'H' del cual no se especifica su significado, pero al no ser una cantidad considerable,\n",
        "decidimos dejarlo como está."
      ],
      "metadata": {
        "id": "7dIx6IwA-Sug"
      }
    },
    {
      "cell_type": "code",
      "source": [
        "df_crimenes['Victim Sex'].fillna('X', inplace=True)\n",
        "df_crimenes['Victim Sex'].replace('-', 'X', inplace=True)\n",
        "df_crimenes['Victim Sex'].value_counts()"
      ],
      "metadata": {
        "id": "6p89QGS8Rap4"
      },
      "execution_count": null,
      "outputs": []
    },
    {
      "cell_type": "markdown",
      "source": [
        "\n",
        "* M - Male\n",
        "* F - Female\n",
        "* X - Unknown\n",
        "* H - No especificado\n",
        "\n",
        "\n",
        "\n"
      ],
      "metadata": {
        "id": "NQaQECtHUKlA"
      }
    },
    {
      "cell_type": "markdown",
      "source": [
        "\n",
        "\n",
        "---\n",
        "\n"
      ],
      "metadata": {
        "id": "BCn6XHOi2lM3"
      }
    },
    {
      "cell_type": "markdown",
      "source": [
        "Decidimos manejar los datos faltantes de la columna \"Victim Descent\" asignandosles\n",
        "el valor 'Unknown' para que sean mas manejables a la hora del analisis."
      ],
      "metadata": {
        "id": "J1SYz9zS-oeg"
      }
    },
    {
      "cell_type": "code",
      "source": [
        "df_crimenes['Victim Descent'].fillna('X', inplace=True)\n",
        "df_crimenes['Victim Descent'].value_counts()"
      ],
      "metadata": {
        "id": "iX3K8fctQmFE"
      },
      "execution_count": null,
      "outputs": []
    },
    {
      "cell_type": "markdown",
      "source": [
        "Desde la pagina donde se encuentra el dataset de crimenes pudimos sacar la siguiente informacion:\n",
        "- A: Other Asian\n",
        "- B: Black\n",
        "- C: Chinese\n",
        "- D: Cambodian\n",
        "- F: Filipino\n",
        "- G: Guamanian\n",
        "- H: Hispanic/Latin/Mexican\n",
        "- I: American Indian/Alaskan Native\n",
        "- J: Japanese\n",
        "- K: Korean\n",
        "- L: Laotian\n",
        "- O: Other\n",
        "- P: Pacific Islander\n",
        "- S: Samoan\n",
        "- U: Hawaiian\n",
        "- V: Vietnamese\n",
        "- W: White\n",
        "- X: Unknown\n",
        "- Z: Asian Indian\n"
      ],
      "metadata": {
        "id": "9CpUaWYJQ9eo"
      }
    },
    {
      "cell_type": "markdown",
      "source": [
        "\n",
        "\n",
        "---\n",
        "\n"
      ],
      "metadata": {
        "id": "ysdZYYwn2LO1"
      }
    },
    {
      "cell_type": "markdown",
      "source": [
        "Decidimos manejar los datos faltantes de la columna \"Premises Description\" asignandosles\n",
        "el valor 'Unknown' para que sean mas manejables a la hora del analisis."
      ],
      "metadata": {
        "id": "97JyqiGu-vrm"
      }
    },
    {
      "cell_type": "code",
      "source": [
        "df_crimenes['Premises Description'].fillna('Unknown', inplace=True)\n",
        "df_crimenes['Premises Description'].value_counts()"
      ],
      "metadata": {
        "id": "s5WpITO_U6bb"
      },
      "execution_count": null,
      "outputs": []
    },
    {
      "cell_type": "markdown",
      "source": [
        "\n",
        "\n",
        "---\n",
        "\n",
        "\n",
        "Pudimos observar que la cantidad de valores nulos en la columna \"Weapon Description\" era muy grande, entonces antes del manejo de estos vamos a analizar que contienen."
      ],
      "metadata": {
        "id": "7SrUswYRbzir"
      }
    },
    {
      "cell_type": "code",
      "source": [
        "df_crimenes['Weapon Description'].value_counts()"
      ],
      "metadata": {
        "id": "eTvBIBhSfxfG"
      },
      "execution_count": null,
      "outputs": []
    },
    {
      "cell_type": "code",
      "source": [
        "# Agrupamos por \"Crime Description\" y contamos los valores nulos en \"Weapon Description\" para cada grupo\n",
        "relacion_valores_nulos = df_crimenes.groupby('Crime Description')['Weapon Description'].apply(lambda x: x.isnull().sum())\n",
        "relacion_valores_nulos.sort_values(ascending=False).head(50)"
      ],
      "metadata": {
        "id": "3LaC-uKbV7KP"
      },
      "execution_count": null,
      "outputs": []
    },
    {
      "cell_type": "markdown",
      "source": [
        "Los crímenes listados probablemente no tengan datos en la columna \"Weapon Description\" por varias razones:\n",
        "\n",
        "1. **Naturaleza del Crimen**: Algunos crímenes pueden haber sido perpetrados sin el uso del arma o directamente pueden ser crímenes que no impliquen arma en absoluto.\n",
        "\n",
        "2. **Falta de Información**: Hay que contemplar el caso de que simplemente no haya habido información por parte de las autoridades o la víctima.\n",
        "\n",
        "Los crímenes enumerados pueden no tener datos en la columna \"Weapon Description\" debido a la naturaleza del crimen, el tipo de crimen y la disponibilidad de información sobre el arma utilizada en el momento del crimen.\n",
        "\n",
        "Además, notemos que existe el valor `'UNKNOWN WEAPON/OTHER WEAPON'`, por lo cual marcar los valores nulos como desconocidos, como anteriormente se propuso, no sería una opción.\n",
        "\n",
        "También mencionar que la posibilidad de dejarlos nulos o reemplazarlos por algún valor específico quedó descartada desde el momento en que se vio la gran cantidad de valores faltantes en la columna.\n",
        "\n",
        "**Decidimos como mejor opción cambiar el valor nulo a 'Not Found'**, haciendo referencia a que no hay arma debido a que no fue encontrada por *x* motivo o porque el crimen no requirió de un arma en absoluto.\n"
      ],
      "metadata": {
        "id": "3QgwIICRffK2"
      }
    },
    {
      "cell_type": "code",
      "source": [
        "df_crimenes['Weapon Description'].fillna('Not Found', inplace=True)\n",
        "df_crimenes['Weapon Description'].value_counts()"
      ],
      "metadata": {
        "id": "ESdOnLoYk0xi"
      },
      "execution_count": null,
      "outputs": []
    },
    {
      "cell_type": "markdown",
      "source": [
        "\n",
        "\n",
        "---\n",
        "\n"
      ],
      "metadata": {
        "id": "e_mxWor73EE_"
      }
    },
    {
      "cell_type": "markdown",
      "source": [
        "Para generalizar las áreas a través de los datasets, nos aseguramos\n",
        "de que los nombres de las áreas estén capitalizados."
      ],
      "metadata": {
        "id": "Xbxm0j8-Q_Cy"
      }
    },
    {
      "cell_type": "code",
      "source": [
        "df_crimenes['Area Name'] = df_crimenes['Area Name'].str.capitalize()\n",
        "df_crimenes['Area Name'] = df_crimenes['Area Name'].str.replace('N hollywood', 'North hollywood')\n",
        "df_crimenes['Area Name'] = df_crimenes['Area Name'].str.replace('West la', 'West los angeles')\n",
        "df_crimenes['Area Name'].value_counts()"
      ],
      "metadata": {
        "collapsed": true,
        "id": "TksbC9aYC67f"
      },
      "execution_count": null,
      "outputs": []
    },
    {
      "cell_type": "markdown",
      "source": [
        "### 2.  Dataframe `gdf_los_angeles`"
      ],
      "metadata": {
        "id": "ayQmDA8H7Hie"
      }
    },
    {
      "cell_type": "code",
      "source": [
        "gdf_los_angeles.head()"
      ],
      "metadata": {
        "id": "zrAsjWiTBPKP"
      },
      "execution_count": null,
      "outputs": []
    },
    {
      "cell_type": "markdown",
      "source": [
        "\n",
        "\n",
        "---\n",
        "\n"
      ],
      "metadata": {
        "id": "XpEPu225RPGu"
      }
    },
    {
      "cell_type": "code",
      "source": [
        "\"\"\"\n",
        "Observamos que no haya valores núlos\n",
        "\"\"\"\n",
        "gdf_los_angeles.info()\n",
        "gdf_los_angeles.isnull().sum()"
      ],
      "metadata": {
        "id": "0rL2cGow89vV"
      },
      "execution_count": null,
      "outputs": []
    },
    {
      "cell_type": "markdown",
      "source": [
        "\n",
        "\n",
        "---\n",
        "\n"
      ],
      "metadata": {
        "id": "sgXDYYX5RQFb"
      }
    },
    {
      "cell_type": "markdown",
      "source": [
        "\n",
        "Para generalizar las áreas a través de los datasets, nos aseguramos\n",
        "de que los nombres de las áreas estén capitalizados.\n"
      ],
      "metadata": {
        "id": "RfY44H43RDR2"
      }
    },
    {
      "cell_type": "code",
      "source": [
        "gdf_los_angeles['APREC'] = gdf_los_angeles['APREC'].str.capitalize()\n",
        "gdf_los_angeles['APREC'].value_counts()"
      ],
      "metadata": {
        "id": "hZoZXfoNDrJZ"
      },
      "execution_count": null,
      "outputs": []
    },
    {
      "cell_type": "markdown",
      "source": [
        "\n",
        "\n",
        "---\n",
        "\n"
      ],
      "metadata": {
        "id": "L_RztIdoRIyC"
      }
    },
    {
      "cell_type": "code",
      "source": [
        "# Visualizamos el mapa\n",
        "gdf_los_angeles.plot()"
      ],
      "metadata": {
        "id": "91tbKA6gZmuf"
      },
      "execution_count": null,
      "outputs": []
    },
    {
      "cell_type": "markdown",
      "source": [
        "### 3. Data frame `df_estaciones`"
      ],
      "metadata": {
        "id": "r4T_gFFVA0rl"
      }
    },
    {
      "cell_type": "code",
      "source": [
        "# Informacion del dataset\n",
        "df_estaciones.info()"
      ],
      "metadata": {
        "id": "hF2eXiSXBkjV"
      },
      "execution_count": null,
      "outputs": []
    },
    {
      "cell_type": "code",
      "source": [
        "\"\"\"\n",
        "El dataframe de estaciones tenia que ser tratado para convertir sus puntos en datos geoespaciales\n",
        "\"\"\"\n",
        "# Convertimos las coordenadas 'x' e 'y' en objetos Point\n",
        "geometry = [Point(xy) for xy in zip(df_estaciones['x'], df_estaciones['y'])]\n",
        "\n",
        "# Creamos un GeoDataFrame\n",
        "gdf_estaciones = gpd.GeoDataFrame(df_estaciones, geometry=geometry)\n",
        "\n",
        "# Mostramos el GeoDataFrame\n",
        "gdf_estaciones.head()"
      ],
      "metadata": {
        "id": "Wesih95Jf_VL"
      },
      "execution_count": null,
      "outputs": []
    },
    {
      "cell_type": "code",
      "source": [
        "# Graficamos los puntos\n",
        "gdf_estaciones.plot(marker='o', color='red', markersize=5)\n",
        "plt.xlabel('Longitud')\n",
        "plt.ylabel('Latitud')\n",
        "plt.title('Ubicación de los puntos')\n",
        "plt.show()"
      ],
      "metadata": {
        "id": "QM0SKYCtBHfD"
      },
      "execution_count": null,
      "outputs": []
    },
    {
      "cell_type": "code",
      "source": [
        "# Verificamos valores nulos\n",
        "df_estaciones.isnull().sum()"
      ],
      "metadata": {
        "id": "3owz-3JeDsyg"
      },
      "execution_count": null,
      "outputs": []
    },
    {
      "cell_type": "markdown",
      "source": [
        "# Análisis Exploratorio de Datos de la Ciudad de Los Ángeles\n",
        "\n",
        "En este estudio, exploraremos varios aspectos de la ciudad de Los Ángeles a través de los diferentes conjuntos de datos. A través de una serie de preguntas interrelacionadas, buscaremos comprender mejor la dinámica de una de las ciudades más icónicas del mundo."
      ],
      "metadata": {
        "id": "Ke33D6HdmGIR"
      }
    },
    {
      "cell_type": "markdown",
      "source": [
        "## Tratemos de entender la actividad criminal en la ciudad de Los Ángeles...\n",
        "\n",
        "\n"
      ],
      "metadata": {
        "id": "MHytnsJVDmne"
      }
    },
    {
      "cell_type": "markdown",
      "source": [
        "## Informacion central"
      ],
      "metadata": {
        "id": "bbG76FAfH75X"
      }
    },
    {
      "cell_type": "markdown",
      "source": [
        "### Crimenes violentos"
      ],
      "metadata": {
        "id": "2QAdse-MOPf9"
      }
    },
    {
      "cell_type": "code",
      "source": [
        "# Contamos la frecuencia de cada tipo de crimen y ordenarmos por el código del crimen\n",
        "distribucion_delitos = df_crimenes['Crime Code'].value_counts().sort_index()\n",
        "# Agrupamos por codigos en unidades\n",
        "distribucion_delitos_agrupada = distribucion_delitos.groupby(distribucion_delitos.index // 100).sum()\n",
        "\n",
        "# Creamos un gráfico de barras para la distribución de delitos por tipo\n",
        "plt.figure(figsize=(10, 6))\n",
        "distribucion_delitos_agrupada.plot(kind='bar')\n",
        "plt.title('Distribución de Delitos por Tipo')\n",
        "plt.xlabel('Codigo de crimen (1 es el mas grave)')\n",
        "plt.ylabel('Cantidad de crimenes')\n",
        "plt.xticks(rotation=45)\n",
        "plt.grid(axis='y', linestyle='--', alpha=0.7)\n",
        "plt.show()\n"
      ],
      "metadata": {
        "id": "Zi18inaTI3da"
      },
      "execution_count": null,
      "outputs": []
    },
    {
      "cell_type": "markdown",
      "source": [
        "Podemos notar la amplia diferencia que hay entre los crimenes de grado 3 y los demas, teniendo en cuenta que a menor numero mayor es el agravante podemos decir que suelen ocurrir crimenes severos."
      ],
      "metadata": {
        "id": "EXZuToGxMdjF"
      }
    },
    {
      "cell_type": "markdown",
      "source": [
        "### Efectividad policial"
      ],
      "metadata": {
        "id": "JL0rmwVkOW31"
      }
    },
    {
      "cell_type": "code",
      "source": [
        "# Contamos la frecuencia de cada estado de incidente\n",
        "estado_incidentes = df_crimenes['Status Description'].value_counts()\n",
        "\n",
        "# Creamos una copia del DataFrame de estado_incidentes\n",
        "estado_incidentes_agrupados = estado_incidentes.copy()\n",
        "\n",
        "# Agrupamos las categorías con frecuencia muy baja en una categoría \"Otros\"\n",
        "umbral = 0.01 * estado_incidentes.sum()  # Define un umbral para determinar qué categorías agrupar\n",
        "categorias_pequenas = estado_incidentes[estado_incidentes < umbral].index\n",
        "estado_incidentes_agrupados['Otros'] = estado_incidentes_agrupados[categorias_pequenas].sum()\n",
        "estado_incidentes_agrupados.drop(categorias_pequenas, inplace=True)\n",
        "\n",
        "# Creamos un gráfico de pastel para el estado de los incidentes con leyenda lateral y categoría \"Otros\"\n",
        "plt.figure(figsize=(8, 8))\n",
        "estado_incidentes_agrupados.plot(kind='pie', autopct='%1.1f%%', startangle=140)\n",
        "plt.title('Estado de los Incidentes')\n",
        "plt.axis('equal')\n",
        "plt.legend(loc='center left', bbox_to_anchor=(1, 0.5))\n",
        "plt.show()\n"
      ],
      "metadata": {
        "id": "KIcNaGVqJmYA"
      },
      "execution_count": null,
      "outputs": []
    },
    {
      "cell_type": "markdown",
      "source": [
        "\n",
        "*'Invest cont' se refiere a 'investigation continued' o 'Investigación en curso'.*\n",
        "\n",
        "Es sorprendente la cantidad de crímenes que aún no se han resuelto, especialmente considerando que esta es una de las ciudades más influyentes de América y del mundo.\n",
        "\n",
        "Es apresurado hacer afirmaciones a estas alturas, pero teniendo en cuenta que los datos analizados son desde 2020 hasta la actualidad, a simple vista, la LAPD debería mejorar o al menos agilizar sus investigaciones..."
      ],
      "metadata": {
        "id": "H9aFGodCOMJn"
      }
    },
    {
      "cell_type": "markdown",
      "source": [
        "## ¿Cuál es la distribución de crímenes por área?"
      ],
      "metadata": {
        "id": "UB4qz_ESHkUQ"
      }
    },
    {
      "cell_type": "code",
      "source": [
        "#Contamos la frecuencia de aparición de cada área en el primer DataFrame\n",
        "frecuencia_areas = df_crimenes['Area Name'].value_counts()\n",
        "frecuencia_areas = frecuencia_areas.sort_values(ascending=False)\n",
        "frecuencia_areas = frecuencia_areas.reset_index()\n",
        "frecuencia_areas.columns = ['Area Name', 'count']\n",
        "\n",
        "#Fusionamos la frecuencia de aparición con el segundo DataFrame basado en el nombre del área\n",
        "df_area_crimenes = gdf_los_angeles.merge(frecuencia_areas, left_on='APREC', right_on='Area Name', how='left')\n",
        "df_area_crimenes.sort_values(by='count', ascending=False, inplace=True)\n",
        "\n",
        "#Unimos las dos columnas para poder graficar posteriormente el legend\n",
        "df_area_crimenes['Area_Count'] = df_area_crimenes.apply(lambda row: f\"{row['count']} ({row['APREC']})\", axis=1)\n",
        "\n",
        "#Creamos una figura y ejes de Matplotlib\n",
        "fig, ax = plt.subplots(1, 1, figsize=(20, 10))\n",
        "\n",
        "#Trazamos el GeoDataFrame utilizando la frecuencia de aparición como intensidad\n",
        "df_area_crimenes.plot(column='Area_Count', cmap='YlOrRd', linewidth=0.8, ax=ax, edgecolor='0.8', legend=True,\n",
        "                      legend_kwds={'loc': 'center left', 'bbox_to_anchor': (1, 0.5), 'title': 'Frecuencia de Crímenes'})\n",
        "\n",
        "# Agregamos un título y etiquetas de los ejes\n",
        "ax.set_title('Zonas peligrosas en la Ciudad de Los Ángeles')\n",
        "ax.set_axis_off()\n",
        "\n",
        "# Mostramos el mapa de calor\n",
        "plt.show()"
      ],
      "metadata": {
        "id": "bfmL3hrI_lwG"
      },
      "execution_count": null,
      "outputs": []
    },
    {
      "cell_type": "markdown",
      "source": [
        "## Delincuencia juvenil\n",
        "Veamos qué proporción de los crímenes que culminan con un arresto son cometidos por jóvenes."
      ],
      "metadata": {
        "id": "pcwdKGG9EegU"
      }
    },
    {
      "cell_type": "code",
      "source": [
        "# Recuento de crímenes por estado de arresto para adultos y jovenes\n",
        "arresto_adultos_crimenes = df_crimenes[df_crimenes[\"Status Description\"] == \"Adult Arrest\"].groupby(\"Crime Description\").size()\n",
        "arresto_jovenes_crimenes = df_crimenes[df_crimenes[\"Status Description\"] == \"Juv Arrest\"].groupby(\"Crime Description\").size()\n",
        "\n",
        "# Obtenemos los 10 primeros valores del recuento de crímenes por estado de arresto para adultos y jovenes\n",
        "top_adultos = arresto_adultos_crimenes.sort_values(ascending=False).head(10)\n",
        "top_jovenes = arresto_jovenes_crimenes.sort_values(ascending=False).head(10)\n",
        "\n",
        "# Creamos el gráfico de barras horizontales para adultos\n",
        "plt.figure(figsize=(12, 6))\n",
        "top_adultos.plot(kind='barh', color='skyblue')\n",
        "plt.xlabel('Cantidad de Crímenes')\n",
        "plt.ylabel('Descripción del Crimen')\n",
        "plt.title('Top 10 Crímenes por Estado de Arresto (Adultos)')\n",
        "plt.grid(axis='x', linestyle='--', alpha=0.7)\n",
        "plt.gca().invert_yaxis()\n",
        "plt.show()\n",
        "\n",
        "# Creamos el gráfico de barras horizontales para jóvenes\n",
        "plt.figure(figsize=(12, 6))\n",
        "top_jovenes.plot(kind='barh', color='lightgreen')\n",
        "plt.xlabel('Cantidad de Crímenes')\n",
        "plt.ylabel('Descripción del Crimen')\n",
        "plt.title('Top 10 Crímenes por Estado de Arresto (Jóvenes)')\n",
        "plt.grid(axis='x', linestyle='--', alpha=0.7)\n",
        "plt.gca().invert_yaxis()\n",
        "plt.show()\n"
      ],
      "metadata": {
        "id": "GSVa3VSeIBLg"
      },
      "execution_count": null,
      "outputs": []
    },
    {
      "cell_type": "markdown",
      "source": [
        "Dado este gráfico, podemos obtener la siguiente información:\n",
        "\n",
        "1. Los tipos de robo más frecuentes son casi los mismos, sin importar si el delincuente es joven o adulto.\n",
        "2. Podríamos llegar a decir que la delincuencia juvenil es baja, ya que el delito más cometido por jóvenes es un tercio de la proporción del décimo delito más cometido por adultos.\n"
      ],
      "metadata": {
        "id": "DCvpMUe3FhoG"
      }
    },
    {
      "cell_type": "markdown",
      "source": [
        "Dado el primer punto y destacando el protagonismo de los tipos de crimenes 'agresión con arma mortal' y 'robo' nos surgió la pregunta.\n",
        "\n",
        "### ¿Cuáles son las áreas donde se frecuentan más estos tipos de crímenes?"
      ],
      "metadata": {
        "id": "wQqqbdd75Wbe"
      }
    },
    {
      "cell_type": "code",
      "source": [
        "# Filtramos el DataFrame por los tipos de crímenes específicos\n",
        "crimenes = df_crimenes[df_crimenes[\"Crime Description\"].isin([\"ROBBERY\", \"ASSAULT WITH DEADLY WEAPON, AGGRAVATED ASSAULT\"])]\n",
        "\n",
        "# Contamos la cantidad de crímenes por área para cada tipo de crimen\n",
        "robbery_counts = crimenes[crimenes[\"Crime Description\"] == \"ROBBERY\"][\"Area Name\"].value_counts()\n",
        "assault_counts = crimenes[crimenes[\"Crime Description\"] == \"ASSAULT WITH DEADLY WEAPON, AGGRAVATED ASSAULT\"][\"Area Name\"].value_counts()\n",
        "\n",
        "# Graficamos los gráficos de torta\n",
        "plt.figure(figsize=(15, 6))\n",
        "\n",
        "plt.subplot(1, 2, 1)\n",
        "robbery_counts.head(4).plot(kind=\"pie\", autopct='%1.1f%%', startangle=90)\n",
        "plt.title(\"Áreas Comunes para robos\")\n",
        "plt.ylabel(\"\")\n",
        "\n",
        "plt.subplot(1, 2, 2)\n",
        "assault_counts.head(4).plot(kind=\"pie\", autopct='%1.1f%%', startangle=90)\n",
        "plt.title(\"Áreas Comunes para asaltos con arma mortal\")\n",
        "plt.ylabel(\"\")\n",
        "\n",
        "plt.tight_layout()\n",
        "plt.show()\n"
      ],
      "metadata": {
        "id": "hNmID3L8HI5k"
      },
      "execution_count": null,
      "outputs": []
    },
    {
      "cell_type": "markdown",
      "source": [
        "Llegamos a la conclusión de que las cuatro áreas donde más ocurren estos delitos son las mismas, siendo la única diferencia (y muy pequeña) el porcentaje entre ellas."
      ],
      "metadata": {
        "id": "F8OFLdKFdmHW"
      }
    },
    {
      "cell_type": "markdown",
      "source": [
        "## Estaciones policiales"
      ],
      "metadata": {
        "id": "bVPb9PIOxkYQ"
      }
    },
    {
      "cell_type": "markdown",
      "source": [
        "El siguiente gráfico nos muestra dónde se encuentran las estaciones policiales de la ciudad."
      ],
      "metadata": {
        "id": "GAGifIIxCz41"
      }
    },
    {
      "cell_type": "code",
      "source": [
        "# Creamos una figura y ejes de Matplotlib\n",
        "fig, ax = plt.subplots(1, 1, figsize=(20, 10))\n",
        "\n",
        "# Trazamos el GeoDataFrame. Tengamos en cuenta que el color del fondo del mapa no hace referencia a nada, es simplemente estético.\n",
        "df_area_crimenes.plot(cmap='Pastel2', linewidth=0.5, ax=ax, edgecolor='0.1', legend=True)\n",
        "\n",
        "# Trazamos el GeoDataFrame de puntos sobre el mapa\n",
        "gdf_estaciones.plot(ax=ax, marker='*', color='blue', markersize=10, alpha=0.9, label='Estaciones Policias')\n",
        "\n",
        "# Agregamos un título y etiquetas de los ejes\n",
        "ax.set_title('Zonas cubiertas por la LAPD')\n",
        "ax.set_axis_off()\n",
        "plt.legend(loc='upper right')\n",
        "plt.show()"
      ],
      "metadata": {
        "id": "aRh2hkiSqkMF"
      },
      "execution_count": null,
      "outputs": []
    },
    {
      "cell_type": "markdown",
      "source": [
        "Podemos notar que hay una estacion por distrito"
      ],
      "metadata": {
        "id": "RUtjYah0LNdT"
      }
    },
    {
      "cell_type": "markdown",
      "source": [
        "## Tendencias en el tiempo"
      ],
      "metadata": {
        "id": "ck1qRVJoekJa"
      }
    },
    {
      "cell_type": "markdown",
      "source": [
        "### ¿Hay patrones de actividad delictiva a lo largo del día? ¿Y a lo largo del año?"
      ],
      "metadata": {
        "id": "xwQ9eKr-XXDN"
      }
    },
    {
      "cell_type": "markdown",
      "source": [
        "**Día**"
      ],
      "metadata": {
        "id": "142kgttOSPxX"
      }
    },
    {
      "cell_type": "code",
      "source": [
        "# Convertimos el tiempo a cadena y eliminar los dos puntos para facilitar el análisis\n",
        "df_crimenes['Occurred Time'] = df_crimenes['Occurred Time'].str.replace(':', '')\n",
        "df_crimenes['Occurred Time'] = pd.to_numeric(df_crimenes['Occurred Time'], errors='coerce')\n",
        "\n",
        "# Cambiamos el estilo de Seaborn con solo líneas de cuadrícula horizontales\n",
        "sns.set_style(\"whitegrid\", {'axes.grid': False})\n",
        "\n",
        "# Dividimos el día en partes\n",
        "bins = [0, 600, 1200, 1800, 2400]\n",
        "labels = ['Madrugada', 'Mañana', 'Tarde', 'Noche']\n",
        "df_crimenes['Day Part'] = pd.cut(df_crimenes['Occurred Time'], bins=bins, labels=labels, right=False)\n",
        "\n",
        "# Creamos una figura con 4 subgráficos en dos filas y dos columnas\n",
        "fig, axes = plt.subplots(2, 2, figsize=(12, 8), sharey=True)\n",
        "\n",
        "# Definimos los límites del eje x para cada parte del día\n",
        "x_limits = [(0, 600), (600, 1200), (1200, 1800), (1800, 2400)]\n",
        "\n",
        "# Paleta de colores personalizada\n",
        "colors = sns.color_palette(\"pastel\")\n",
        "\n",
        "# Iteramos sobre las partes del día y crear un diagrama de violín para cada una\n",
        "for i, (part, x_limit) in enumerate(zip(labels, x_limits)):\n",
        "    row = i // 2\n",
        "    col = i % 2\n",
        "    sns.violinplot(x='Occurred Time', data=df_crimenes[df_crimenes['Day Part'] == part], color=colors[i], ax=axes[row, col], linewidth=2)\n",
        "    axes[row, col].set_title(f'Distribución de Horas de Ocurrencia - {part}', fontsize=14, fontweight='bold')\n",
        "    axes[row, col].set_xlabel('Hora de Ocurrencia', fontsize=12)\n",
        "    axes[row, col].set_ylabel('', fontsize=12)\n",
        "    axes[row, col].set_xlim(x_limit)\n",
        "    axes[row, col].tick_params(axis='both', which='major', labelsize=10)\n",
        "\n",
        "# Ajustamos el diseño de los subgráficos\n",
        "plt.tight_layout()\n",
        "plt.show()"
      ],
      "metadata": {
        "id": "zI5Ez3lFXiQe"
      },
      "execution_count": null,
      "outputs": []
    },
    {
      "cell_type": "markdown",
      "source": [
        "Dividimos el día en cuatro partes para entender mejor cómo es la actividad delictiva a lo largo del día. Pudimos visualizar que no hay un patrón específico de delitos acumulados en ciertas horas, sino más bien vemos que las grandes densidades de ocurrencias se presentan varias veces a lo largo del día."
      ],
      "metadata": {
        "id": "e8un2A5sMH7G"
      }
    },
    {
      "cell_type": "code",
      "source": [
        "# Hacemos un barplot con los Cantidades\n",
        "plt.figure(figsize=(10, 6))\n",
        "df_crimenes['Day Part'].value_counts().plot(kind='bar')\n",
        "plt.title('Distribución de Delitos por Tipo')\n",
        "plt.xlabel('Parte del dia')\n",
        "plt.ylabel('Cantidad de crimenes')\n",
        "plt.xticks(rotation=45)\n",
        "plt.grid(axis='y', linestyle='--', alpha=0.7)\n",
        "plt.show()"
      ],
      "metadata": {
        "id": "p9eQjJdwNKxZ"
      },
      "execution_count": null,
      "outputs": []
    },
    {
      "cell_type": "markdown",
      "source": [
        "Lo que si podemos decir es que a la tarde/noche, como era de esperarse, ocurren la mayor cantidad de crimenes."
      ],
      "metadata": {
        "id": "68tU_6aYPaAo"
      }
    },
    {
      "cell_type": "code",
      "source": [
        "#Volvemos a cambiar la columna 'Ocurred Time' para visualizar mejor la información.\n",
        "df_crimenes['Occurred Time'] = df_crimenes['Occurred Time'].astype(str).str.zfill(4)\n",
        "df_crimenes['Occurred Time'] = df_crimenes['Occurred Time'].str.slice(0, 2) + ':' + df_crimenes['Occurred Time'].str.slice(2, 4)\n",
        "\n",
        "#Agrupamos los datos 'Day Part' y 'Ocurred Time'\n",
        "hour_counts = df_crimenes.groupby(['Day Part', 'Occurred Time']).size().reset_index(name='Count')"
      ],
      "metadata": {
        "id": "pXHVdvwUARDC"
      },
      "execution_count": null,
      "outputs": []
    },
    {
      "cell_type": "markdown",
      "source": [
        "**Año**"
      ],
      "metadata": {
        "id": "doJnz_ibjVIn"
      }
    },
    {
      "cell_type": "code",
      "source": [
        "# Crear una nueva columna que solo contenga el año y el mes\n",
        "df_crimenes['Year-Month'] = df_crimenes['Occurred Date'].dt.to_period('M')\n",
        "\n",
        "# Contar el número de crímenes por cada mes\n",
        "crimes_per_month = df_crimenes.groupby('Year-Month').size()\n",
        "# Graficar los datos con un gráfico de línea y marcador de triángulo hacia arriba\n",
        "plt.figure(figsize=(12, 6))\n",
        "crimes_per_month.plot(kind='line',)\n",
        "plt.title('Número de crímenes a lo largo del tiempo')\n",
        "plt.xlabel('Año')\n",
        "plt.ylabel('Número de crímenes')\n",
        "plt.grid(True)\n",
        "plt.show()"
      ],
      "metadata": {
        "id": "4VMewR2ifTbd"
      },
      "execution_count": null,
      "outputs": []
    },
    {
      "cell_type": "markdown",
      "source": [
        "- **Tendencia Temporal:** Existe una tendencia histórica donde los crímenes tienden a aumentar hacia el último tramo del año.\n",
        "\n",
        "- **Disminución en 2024:** En 2024, se observó una marcada disminución en los índices delictivos, que ahora se mantienen estables.\n",
        "\n",
        "Llegamos a la conclusión de que esta variación inesperada en 2024 podría ser porque los datos que tenemos es hasta la actualidad. Este análisis deberíamos repetirlo cuando el año finalice para lograr identificar que variación tuvo respecto de los años anteriores.\n"
      ],
      "metadata": {
        "id": "BaFXVusrH8ij"
      }
    },
    {
      "cell_type": "markdown",
      "source": [
        "### ¿Que tan rapido se reporta un crimen despues de ocurrido?"
      ],
      "metadata": {
        "id": "5nEobc2wjXoO"
      }
    },
    {
      "cell_type": "code",
      "source": [
        "# Calculamos la diferencia de tiempo en días entre 'Occurred Date' y 'Reported Date'\n",
        "df_crimenes['Report Delay'] = (df_crimenes['Reported Date'] - df_crimenes['Occurred Date']).dt.days\n",
        "\n",
        "# Eliminamos filas con diferencias negativas (por si acaso hay errores en los datos)\n",
        "df_crimenes = df_crimenes[df_crimenes['Report Delay'] >= 0]\n",
        "\n",
        "# Calculamos el promedio de retraso\n",
        "demora_promedio = df_crimenes['Report Delay'].mean()\n",
        "print(f\"El promedio de tiempo para reportar un crimen es de {demora_promedio:.2f} días.\")"
      ],
      "metadata": {
        "id": "I_DWrKNVjmPm"
      },
      "execution_count": null,
      "outputs": []
    },
    {
      "cell_type": "markdown",
      "source": [
        "En promedio se tarda **un mes** desde que ocurre un crimen hasta que es reportado...\n",
        "\n",
        "\n"
      ],
      "metadata": {
        "id": "lLBBVpyhHtkc"
      }
    }
  ]
}